{
 "cells": [
  {
   "cell_type": "markdown",
   "id": "6071c9e3",
   "metadata": {},
   "source": [
    "<a id=\"Header\"></a>\n",
    "<div style=\"color:white;\n",
    "           display:fill;\n",
    "           border-radius:20px;\n",
    "           background-color:#0D4C92;\n",
    "           font-size:200%;\n",
    "           font-family:Verdana;\n",
    "           letter-spacing:0.5px;\n",
    "           padding: 15px 5px\">\n",
    "\n",
    "<p style=\"padding: 5px 5px 0px;\n",
    "          text-align:center;\n",
    "          color:white;\">\n",
    "          PRÁCTICA 1\n",
    "</p>\n",
    "<p style=\"padding: 0px 5px 5px;\n",
    "          text-align:center;\n",
    "          color:white;\">\n",
    "          Juego “Adivina el número” \n",
    "</p>\n",
    "</div>"
   ]
  },
  {
   "cell_type": "markdown",
   "id": "b94dbcc3",
   "metadata": {},
   "source": [
    "<p style=\"text-align:center\">\n",
    "    <img src=\"https://m.media-amazon.com/images/I/51848OMGGeL.png\" width=\"250\" alt=\"Water\"  />\n",
    "    </a>\n",
    "</p>"
   ]
  },
  {
   "cell_type": "code",
   "execution_count": 44,
   "id": "8a216c7e",
   "metadata": {},
   "outputs": [],
   "source": [
    "# Importar las librerias\n",
    "import getpass\n",
    "import random\n",
    "import pandas as pd\n",
    "import matplotlib.pyplot as plt "
   ]
  },
  {
   "cell_type": "markdown",
   "id": "395c18ad",
   "metadata": {},
   "source": [
    "### Definir las funciones del juego"
   ]
  },
  {
   "cell_type": "code",
   "execution_count": 2,
   "id": "aabc4117",
   "metadata": {},
   "outputs": [],
   "source": [
    "# Estadisticos de las rondas\n",
    "rondas = {'Modo':[], 'Nivel':[], \"Intentos\":[], 'Punto':[]}"
   ]
  },
  {
   "cell_type": "code",
   "execution_count": 3,
   "id": "6ff16854",
   "metadata": {},
   "outputs": [],
   "source": [
    "def facil():\n",
    "    for i in range(20):\n",
    "        num = int(input(\"Adivina el número: \"))\n",
    "        if num == respuesta:\n",
    "            print(\"Enhorabuena!!! Has ganado.\")\n",
    "            rondas['Punto'].append(1)\n",
    "            break\n",
    "        elif (num > respuesta) & (i<18):\n",
    "            print(\"Es MAYOR que la respuesta correcta. Te quedan \" + f\"{19-i}\" \n",
    "                  + \" intentos. Inténtalo de nuevo!\")\n",
    "        elif (num < respuesta) & (i<18):\n",
    "            print(\"Es MENOR que la respuesta correcta. Te quedan \" + f\"{19-i}\"\n",
    "                  + \" intentos. Inténtalo de nuevo!\")\n",
    "        elif (num > respuesta) & (i==18):\n",
    "            print(\"Es MAYOR que la respuesta correcta. Último intento. Ánimo!!!\")\n",
    "        elif (num < respuesta) & (i==18):\n",
    "            print(\"Es MENOR que la respuesta correcta. Último intento. Ánimo!!!\")\n",
    "    if num != respuesta:\n",
    "        print(\"Has perdido\")\n",
    "        rondas['Punto'].append(0)\n",
    "    rondas['Intentos'].append(i+1)"
   ]
  },
  {
   "cell_type": "code",
   "execution_count": 4,
   "id": "4d827131",
   "metadata": {},
   "outputs": [],
   "source": [
    "def medio():\n",
    "    for i in range(12):\n",
    "        num = int(input(\"Adivina el número: \"))\n",
    "        if num == respuesta:\n",
    "            print(\"Enhorabuena!!! Has ganado.\")\n",
    "            rondas['Punto'].append(1)\n",
    "            break\n",
    "        elif (num > respuesta) & (i<10):\n",
    "            print(\"Es MAYOR que la respuesta correcta. Te quedan \" + f\"{11-i}\" \n",
    "                  + \" intentos. Inténtalo de nuevo!\")\n",
    "        elif (num < respuesta) & (i<10):\n",
    "            print(\"Es MENOR que la respuesta correcta. Te quedan \" + f\"{11-i}\"\n",
    "                  + \" intentos. Inténtalo de nuevo!\")\n",
    "        elif (num > respuesta) & (i==10):\n",
    "            print(\"Es MAYOR que la respuesta correcta. Último intento. Ánimo!!!\")\n",
    "        elif (num < respuesta) & (i==10):\n",
    "            print(\"Es MENOR que la respuesta correcta. Último intento. Ánimo!!!\")\n",
    "    if num != respuesta:\n",
    "        print(\"Has perdido\")\n",
    "        rondas['Punto'].append(0)\n",
    "    rondas['Intentos'].append(i+1)"
   ]
  },
  {
   "cell_type": "code",
   "execution_count": 5,
   "id": "59a65bef",
   "metadata": {},
   "outputs": [],
   "source": [
    "def dificil():\n",
    "    for i in range(5):\n",
    "        num = int(input(\"Adivina el número: \"))\n",
    "        if num == respuesta:\n",
    "            print(\"Enhorabuena!!! Has ganado.\")\n",
    "            rondas['Punto'].append(1)\n",
    "            break\n",
    "        elif (num > respuesta) & (i<3):\n",
    "            print(\"Es MAYOR que la respuesta correcta. Te quedan \" + f\"{4-i}\" \n",
    "                  + \" intentos. Inténtalo de nuevo!\")\n",
    "        elif (num < respuesta) & (i<3):\n",
    "            print(\"Es MENOR que la respuesta correcta. Te quedan \" + f\"{4-i}\"\n",
    "                  + \" intentos. Inténtalo de nuevo!\")\n",
    "        elif (num > respuesta) & (i==3):\n",
    "            print(\"Es MAYOR que la respuesta correcta. Último intento. Ánimo!!!\")\n",
    "        elif (num < respuesta) & (i==3):\n",
    "            print(\"Es MENOR que la respuesta correcta. Último intento. Ánimo!!!\")\n",
    "    if num != respuesta:\n",
    "        print(\"Has perdido\")\n",
    "        rondas['Punto'].append(0)\n",
    "    rondas['Intentos'].append(i+1)"
   ]
  },
  {
   "cell_type": "markdown",
   "id": "f7b9b6de",
   "metadata": {},
   "source": [
    "### Play menu"
   ]
  },
  {
   "cell_type": "code",
   "execution_count": 18,
   "id": "c4d69112",
   "metadata": {},
   "outputs": [
    {
     "name": "stdout",
     "output_type": "stream",
     "text": [
      "Selecciona el modo: \n",
      " 1. Partida modo solitario \n",
      " 2. Partida 2 judadores \n",
      " 3. Estadística \n",
      " 4. Salir \n",
      "3\n"
     ]
    }
   ],
   "source": [
    "modo = input(\"Selecciona el modo: \\n 1. Partida modo solitario \\n 2. Partida 2 judadores \\n 3. Estadística \\n 4. Salir \\n\")"
   ]
  },
  {
   "cell_type": "markdown",
   "id": "ff5a6a0b",
   "metadata": {},
   "source": [
    "### Nivel"
   ]
  },
  {
   "cell_type": "code",
   "execution_count": 16,
   "id": "8be2855a",
   "metadata": {},
   "outputs": [
    {
     "name": "stdout",
     "output_type": "stream",
     "text": [
      "Elige tu nivel: \n",
      " 1. Fácil (20 intentos) \n",
      " 2. Medio (12 intentos) \n",
      " 3. Difícil (5 intentos) \n",
      "2\n"
     ]
    }
   ],
   "source": [
    "### Elige el nivel \n",
    "nivel = input(\"Elige tu nivel: \\n 1. Fácil (20 intentos) \\n 2. Medio (12 intentos) \\n 3. Difícil (5 intentos) \\n\")"
   ]
  },
  {
   "cell_type": "markdown",
   "id": "12bf4aa0",
   "metadata": {},
   "source": [
    "### Juego solitario & duo"
   ]
  },
  {
   "cell_type": "code",
   "execution_count": 25,
   "id": "cb9b8d37",
   "metadata": {},
   "outputs": [
    {
     "name": "stdout",
     "output_type": "stream",
     "text": [
      "   Modo    Nivel  Intentos  Punto\n",
      "0   Duo  Difícil         5      0\n",
      "1  Solo    Fácil         9      1\n",
      "2   Duo    Medio        11      1\n",
      "3  Solo    Medio        10      1\n",
      "Has ganado 3 de 4 partidas!\n"
     ]
    }
   ],
   "source": [
    "if modo == \"1\":\n",
    "    rondas['Modo'].append('Solo')\n",
    "    respuesta = random.randint(1, 1000) # Genera un número aleatorio\n",
    "    if nivel == \"1\":\n",
    "        rondas['Nivel'].append('Fácil')\n",
    "        facil()\n",
    "    elif nivel == \"2\":\n",
    "        rondas['Nivel'].append('Medio')\n",
    "        medio()\n",
    "    elif nivel == \"3\":\n",
    "        rondas['Nivel'].append('Difícil')\n",
    "        dificil()\n",
    "elif modo == \"2\": \n",
    "    rondas['Modo'].append('Duo')\n",
    "    respuesta = int(getpass.getpass('Introduzca un número entre 1 y 1000: '))\n",
    "    if nivel == \"1\":\n",
    "        rondas['Nivel'].append('Fácil')\n",
    "        facil()\n",
    "    elif nivel == \"2\":\n",
    "        rondas['Nivel'].append('Medio')\n",
    "        medio()\n",
    "    elif nivel == \"3\":\n",
    "        rondas['Nivel'].append('Difícil')\n",
    "        dificil()\n",
    "elif modo == \"3\":\n",
    "    resumen = pd.DataFrame.from_dict(rondas)\n",
    "    print(resumen)\n",
    "    print(\"Has ganado \" + f\"{resumen['Punto'].sum()}\" +\" de \" + f\"{resumen['Punto'].count()}\"+\" partidas!\")"
   ]
  },
  {
   "cell_type": "code",
   "execution_count": 28,
   "id": "800f5392",
   "metadata": {},
   "outputs": [
    {
     "name": "stdout",
     "output_type": "stream",
     "text": [
      "<class 'pandas.core.frame.DataFrame'>\n",
      "RangeIndex: 4 entries, 0 to 3\n",
      "Data columns (total 4 columns):\n",
      " #   Column    Non-Null Count  Dtype \n",
      "---  ------    --------------  ----- \n",
      " 0   Modo      4 non-null      object\n",
      " 1   Nivel     4 non-null      object\n",
      " 2   Intentos  4 non-null      int64 \n",
      " 3   Punto     4 non-null      int64 \n",
      "dtypes: int64(2), object(2)\n",
      "memory usage: 256.0+ bytes\n"
     ]
    }
   ],
   "source": [
    "resumen.info()"
   ]
  },
  {
   "cell_type": "code",
   "execution_count": 65,
   "id": "f09faf61",
   "metadata": {},
   "outputs": [
    {
     "data": {
      "text/plain": [
       "Text(0.5, 1.0, 'Porcentaje de partidas ganadas')"
      ]
     },
     "execution_count": 65,
     "metadata": {},
     "output_type": "execute_result"
    },
    {
     "data": {
      "image/png": "[encoded data removed]",
      "text/plain": [
       "<Figure size 432x288 with 1 Axes>"
      ]
     },
     "metadata": {},
     "output_type": "display_data"
    }
   ],
   "source": [
    "# resumen.groupby(['Punto'])['Punto'].count().plot(kind='pie', autopct = '%1.1f%%',wedgeprops = {\"linewidth\": 1, \"edgecolor\": \"white\"})\n",
    "# plt.axis('off')\n",
    "punto = resumen.groupby(['Punto'])['Punto'].count()\n",
    "plt.pie(punto, labels=['Perdidos', 'Ganas'], colors=[\"grey\", \"steelblue\"], autopct = '%1.1f%%',wedgeprops = {\"linewidth\": 1, \"edgecolor\": \"white\"})\n",
    "plt.title(\"Porcentaje de partidas ganadas\")"
   ]
  },
  {
   "cell_type": "code",
   "execution_count": 68,
   "id": "942037a8",
   "metadata": {},
   "outputs": [
    {
     "data": {
      "image/png": "[encoded data removed]",
      "text/plain": [
       "<Figure size 360x360 with 1 Axes>"
      ]
     },
     "metadata": {},
     "output_type": "display_data"
    }
   ],
   "source": [
    "fig, ax = plt.subplots(figsize=(5, 5))\n",
    "\n",
    "# Capture each of the return elements.\n",
    "patches, texts, pcts = ax.pie(\n",
    "    punto, labels=['Perdidos', 'Ganas'], colors=[\"grey\", \"steelblue\"], autopct='%.1f%%',\n",
    "    wedgeprops={'linewidth': 3.0, 'edgecolor': 'white'},\n",
    "    textprops={'size': 'x-large'})\n",
    "# Style just the percent values.\n",
    "plt.setp(pcts, color='white', fontweight='bold')\n",
    "ax.set_title('Porcentaje de partidas ganadas', fontsize=18)\n",
    "plt.tight_layout()"
   ]
  },
  {
   "cell_type": "code",
   "execution_count": 32,
   "id": "07ea41f9",
   "metadata": {},
   "outputs": [
    {
     "data": {
      "text/plain": [
       "<AxesSubplot:xlabel='Nivel'>"
      ]
     },
     "execution_count": 32,
     "metadata": {},
     "output_type": "execute_result"
    },
    {
     "data": {
      "image/png": "[encoded data removed]",
      "text/plain": [
       "<Figure size 432x288 with 1 Axes>"
      ]
     },
     "metadata": {
      "needs_background": "light"
     },
     "output_type": "display_data"
    }
   ],
   "source": [
    "resumen.groupby(['Nivel'])['Intentos'].mean().plot(kind='bar')"
   ]
  },
  {
   "cell_type": "code",
   "execution_count": null,
   "id": "ee2f3c7f",
   "metadata": {},
   "outputs": [],
   "source": []
  }
 ],
 "metadata": {
  "kernelspec": {
   "display_name": "Python 3 (ipykernel)",
   "language": "python",
   "name": "python3"
  },
  "language_info": {
   "codemirror_mode": {
    "name": "ipython",
    "version": 3
   },
   "file_extension": ".py",
   "mimetype": "text/x-python",
   "name": "python",
   "nbconvert_exporter": "python",
   "pygments_lexer": "ipython3",
   "version": "3.11.7"
  }
 },
 "nbformat": 4,
 "nbformat_minor": 5
}
